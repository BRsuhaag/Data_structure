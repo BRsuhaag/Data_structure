{
  "nbformat": 4,
  "nbformat_minor": 0,
  "metadata": {
    "colab": {
      "provenance": []
    },
    "kernelspec": {
      "name": "python3",
      "display_name": "Python 3"
    },
    "language_info": {
      "name": "python"
    }
  },
  "cells": [
    {
      "cell_type": "code",
      "execution_count": null,
      "metadata": {
        "id": "FCH0J05ENI0b",
        "colab": {
          "base_uri": "https://localhost:8080/"
        },
        "outputId": "c49ca9fc-4885-4f32-a997-a38c433c50d5"
      },
      "outputs": [
        {
          "output_type": "stream",
          "name": "stdout",
          "text": [
            "olleh\n"
          ]
        }
      ],
      "source": [
        "# 1. Reverse a string\n",
        "string = \"hello\"\n",
        "reversed_string = string[::-1]\n",
        "print(reversed_string)"
      ]
    },
    {
      "cell_type": "code",
      "source": [
        "# 2. Count the number of vowels in a string\n",
        "string = \"hello world\"\n",
        "vowel_count = 0\n",
        "vowels = \"aeiouAEIOU\"\n",
        "for char in string:\n",
        "    if char in vowels:\n",
        "        vowel_count += 1\n",
        "print(vowel_count)"
      ],
      "metadata": {
        "colab": {
          "base_uri": "https://localhost:8080/"
        },
        "id": "9cLFhonwOmqT",
        "outputId": "c7b19568-a7d5-4c2f-935e-0529df9f2373"
      },
      "execution_count": null,
      "outputs": [
        {
          "output_type": "stream",
          "name": "stdout",
          "text": [
            "3\n"
          ]
        }
      ]
    },
    {
      "cell_type": "code",
      "source": [
        "# 3. Check if a given string is a palindrome or not\n",
        "string = \"raccar\"\n",
        "is_palindrome = True\n",
        "for i in range(len(string) // 2):\n",
        "    if string[i] != string[len(string) - i - 1]:\n",
        "        is_palindrome = False\n",
        "        break\n",
        "print(is_palindrome)"
      ],
      "metadata": {
        "colab": {
          "base_uri": "https://localhost:8080/"
        },
        "id": "JZGRYqMUOxDO",
        "outputId": "9ffc8b47-4b68-4eb5-801a-00e1f1b7a59b"
      },
      "execution_count": null,
      "outputs": [
        {
          "output_type": "stream",
          "name": "stdout",
          "text": [
            "True\n"
          ]
        }
      ]
    },
    {
      "cell_type": "code",
      "source": [
        "# 4. Check if two given strings are anagrams of each other\n",
        "string1 = \"listen\"\n",
        "string2 = \"silent\"\n",
        "if set(string1) == set(string2):\n",
        "    print(\"Anagrams\")\n",
        "else:\n",
        "    print(\"Not anagrams\")"
      ],
      "metadata": {
        "colab": {
          "base_uri": "https://localhost:8080/"
        },
        "id": "iMtal_OsO1y0",
        "outputId": "90be2667-b2a3-4275-d8b0-fbfa0df0b448"
      },
      "execution_count": null,
      "outputs": [
        {
          "output_type": "stream",
          "name": "stdout",
          "text": [
            "Anagrams\n"
          ]
        }
      ]
    },
    {
      "cell_type": "code",
      "source": [
        "# 5. Find all occurrences of a given substring within another string\n",
        "string = \"hello world, hello again again\"\n",
        "substring = \"again\"\n",
        "occurrences = []\n",
        "for i in range(len(string) - len(substring) + 1):\n",
        "    if string[i:i+len(substring)] == substring:\n",
        "        occurrences.append(i)\n",
        "print(occurrences)\n"
      ],
      "metadata": {
        "colab": {
          "base_uri": "https://localhost:8080/"
        },
        "id": "_qxmmWcGP2XO",
        "outputId": "78f8c43a-8b57-482a-e9a8-3683cdcefb0b"
      },
      "execution_count": null,
      "outputs": [
        {
          "output_type": "stream",
          "name": "stdout",
          "text": [
            "[19, 25]\n"
          ]
        }
      ]
    },
    {
      "cell_type": "code",
      "source": [
        "# 6. Perform basic string compression using the counts of repeated characters\n",
        "string = \"aaabbccc\"\n",
        "compressed_string = \"\"\n",
        "count = 1\n",
        "for i in range(1, len(string)):\n",
        "    if string[i] == string[i-1]:\n",
        "        count += 1\n",
        "    else:\n",
        "        compressed_string += string[i-1] + str(count)\n",
        "        count = 1\n",
        "compressed_string += string[-1] + str(count)\n",
        "\n",
        "print(compressed_string)"
      ],
      "metadata": {
        "colab": {
          "base_uri": "https://localhost:8080/"
        },
        "id": "o6qconNmRauc",
        "outputId": "3372ba5d-2998-4cde-a26e-cb8705a8c6a6"
      },
      "execution_count": null,
      "outputs": [
        {
          "output_type": "stream",
          "name": "stdout",
          "text": [
            "a3b2c3\n"
          ]
        }
      ]
    },
    {
      "cell_type": "code",
      "source": [
        "# 7. Determine if a string has all unique characters\n",
        "string = \"hello\"\n",
        "unique_chars = set(string)\n",
        "if len(string) == len(unique_chars):\n",
        "    print(\"All characters are unique\")\n",
        "else:\n",
        "    print(\"Some characters are repeated\")"
      ],
      "metadata": {
        "colab": {
          "base_uri": "https://localhost:8080/"
        },
        "id": "aqu3EdmIZ5J_",
        "outputId": "00d66b9f-f6be-4479-c2a4-b121d2d07c42"
      },
      "execution_count": null,
      "outputs": [
        {
          "output_type": "stream",
          "name": "stdout",
          "text": [
            "Some characters are repeated\n"
          ]
        }
      ]
    },
    {
      "cell_type": "code",
      "source": [
        "# 8. Convert a given string to uppercase or lowercase\n",
        "string = \"hello world\"\n",
        "uppercase_string = string.upper()\n",
        "lowercase_string = string.lower()\n",
        "print(uppercase_string)\n",
        "print(lowercase_string)"
      ],
      "metadata": {
        "colab": {
          "base_uri": "https://localhost:8080/"
        },
        "id": "HxrRewFknNVc",
        "outputId": "e3d3a171-7d6e-4a37-ffd7-0a570c63067d"
      },
      "execution_count": null,
      "outputs": [
        {
          "output_type": "stream",
          "name": "stdout",
          "text": [
            "HELLO WORLD\n",
            "hello world\n"
          ]
        }
      ]
    },
    {
      "cell_type": "code",
      "source": [
        "# 9. Count the number of words in a string\n",
        "string = \"hi this is new aspiring software engineer\"\n",
        "a = string.split()\n",
        "count = 0\n",
        "print(len(a))"
      ],
      "metadata": {
        "colab": {
          "base_uri": "https://localhost:8080/"
        },
        "id": "tfDpKipunWdf",
        "outputId": "179f9838-23ce-4a66-a05f-22cb26f20a9c"
      },
      "execution_count": null,
      "outputs": [
        {
          "output_type": "stream",
          "name": "stdout",
          "text": [
            "7\n"
          ]
        }
      ]
    },
    {
      "cell_type": "code",
      "source": [
        "#10. Concatenate two strings without using the + operator\n",
        "string1 = (\"pw Skills\")\n",
        "string2 = (\"Data science\")\n",
        "#addition = string1 + string2\n",
        "print(f\"{string1} {string2}\")"
      ],
      "metadata": {
        "colab": {
          "base_uri": "https://localhost:8080/"
        },
        "id": "7YiEX2eT53dw",
        "outputId": "28b9cab6-ed2c-4823-ae4e-27a70bb70622"
      },
      "execution_count": null,
      "outputs": [
        {
          "output_type": "stream",
          "name": "stdout",
          "text": [
            "pw Skills Data science\n"
          ]
        }
      ]
    },
    {
      "cell_type": "code",
      "source": [
        "#11. Remove all occurrences of a specific element from a list\n",
        "my_list = [1, 2, 3, 2, 4, 2]\n",
        "new_list = set(my_list)\n",
        "print(new_list)"
      ],
      "metadata": {
        "colab": {
          "base_uri": "https://localhost:8080/"
        },
        "id": "HM5fCfSC63oZ",
        "outputId": "95c4b229-a5f1-4d35-9e34-d2fe0c7620f9"
      },
      "execution_count": null,
      "outputs": [
        {
          "output_type": "stream",
          "name": "stdout",
          "text": [
            "{1, 2, 3, 4}\n"
          ]
        }
      ]
    },
    {
      "cell_type": "code",
      "source": [
        "# 12. Implement a code to find the second largest number in a given list of integers\n",
        "numbers = [ 45, 67, 34,5,15]\n",
        "#largest = numbers[0]\n",
        "#second_largest = numbers[0]\n",
        "second_largest_no = 0\n",
        "a = sorted(numbers)\n",
        "b = list(a)\n",
        "b[-2]"
      ],
      "metadata": {
        "colab": {
          "base_uri": "https://localhost:8080/"
        },
        "id": "4p3Ke7ur8O1Y",
        "outputId": "89b489f5-1f8b-4d38-cd85-9d86b6a912ec"
      },
      "execution_count": null,
      "outputs": [
        {
          "output_type": "execute_result",
          "data": {
            "text/plain": [
              "45"
            ]
          },
          "metadata": {},
          "execution_count": 67
        }
      ]
    },
    {
      "cell_type": "code",
      "source": [
        "#13. Create a code to count the occurrences of each element in a list and return a dictionary with elements as keys and their counts as values\n",
        "occurrence = [1, 2, 3, 5, 2, 3]\n",
        "count = {}\n",
        "for i in occurrence:\n",
        "  if i not in count:\n",
        "    count[i] = 1\n",
        "  else:\n",
        "    count[i] += 1\n",
        "print(count)\n"
      ],
      "metadata": {
        "colab": {
          "base_uri": "https://localhost:8080/"
        },
        "id": "bURabRpp9iFZ",
        "outputId": "c2f92817-63f4-40f2-9fe3-6693ef52fb3b"
      },
      "execution_count": null,
      "outputs": [
        {
          "output_type": "stream",
          "name": "stdout",
          "text": [
            "{1: 1, 2: 2, 3: 2, 5: 1}\n"
          ]
        }
      ]
    },
    {
      "cell_type": "code",
      "source": [
        "# 14. Write a code to reverse a list in-place without using any built-in reverse functions\n",
        "numbers = [1, 2, 3, 4, 5]\n",
        "left = 0\n",
        "right = len(numbers) - 1\n",
        "while left < right:\n",
        "    numbers[left], numbers[right] = numbers[right], numbers[left]\n",
        "    left += 1\n",
        "    right -= 1\n",
        "print(numbers)"
      ],
      "metadata": {
        "colab": {
          "base_uri": "https://localhost:8080/"
        },
        "id": "f0Rdg-5YDa8Q",
        "outputId": "39bd5530-ca94-4f75-bde8-9a243642f5ec"
      },
      "execution_count": null,
      "outputs": [
        {
          "output_type": "stream",
          "name": "stdout",
          "text": [
            "[5, 4, 3, 2, 1]\n"
          ]
        }
      ]
    },
    {
      "cell_type": "code",
      "source": [
        "# 15. Implement a code to find and remove duplicates from a list while preserving the original order of elements\n",
        "x = [1, 2, 3, 4, 2, 4, 6, 7, 8, 5]\n",
        "a = set(x)\n",
        "print(a)\n",
        "def remove_duplicates(x):\n",
        "    seen = set()\n",
        "    result = []\n",
        "\n",
        "    for item in x:\n",
        "        if item not in seen:\n",
        "            seen.add(item)\n",
        "            result.append(item)\n",
        "\n",
        "    return result\n"
      ],
      "metadata": {
        "colab": {
          "base_uri": "https://localhost:8080/"
        },
        "id": "fSM-Hq6hIBR2",
        "outputId": "7202e156-e7cc-4afa-f6e9-d4e77806f1da"
      },
      "execution_count": null,
      "outputs": [
        {
          "output_type": "stream",
          "name": "stdout",
          "text": [
            "{1, 2, 3, 4, 5, 6, 7, 8}\n"
          ]
        }
      ]
    },
    {
      "cell_type": "code",
      "source": [
        "# 16. Create a code to check if a given list is sorted (either in ascending or descending order) or not\n",
        "y = [1, 2, 3, 4, 5]\n",
        "a = sorted(y)\n",
        "if a == y:\n",
        "  print(\"True\")\n",
        "else:\n",
        "  print(\"False\")"
      ],
      "metadata": {
        "colab": {
          "base_uri": "https://localhost:8080/"
        },
        "id": "7u0HXvj9KGQQ",
        "outputId": "650655b5-f55e-44e8-d99e-4915eb7df25b"
      },
      "execution_count": null,
      "outputs": [
        {
          "output_type": "stream",
          "name": "stdout",
          "text": [
            "True\n"
          ]
        }
      ]
    },
    {
      "cell_type": "code",
      "source": [
        "#17. write a code to merge two sorted list to one single sorted list\n",
        "a = [1, 6, 8, 7, 8]\n",
        "b = [3, 3, 5, 2, 9]\n",
        "sorted_list = sorted(a)+sorted(b)\n",
        "print(sorted(sorted_list))"
      ],
      "metadata": {
        "id": "kkpLnT8TRYjk",
        "colab": {
          "base_uri": "https://localhost:8080/"
        },
        "outputId": "9726f296-2f0a-4519-a255-eb431cd006bf"
      },
      "execution_count": null,
      "outputs": [
        {
          "output_type": "stream",
          "name": "stdout",
          "text": [
            "[1, 2, 3, 3, 5, 6, 7, 8, 8, 9]\n"
          ]
        }
      ]
    },
    {
      "cell_type": "code",
      "source": [
        "#18. write a code to find intersection of two given list\n",
        "a = [1, 5, 8, 7, 8]\n",
        "b = [3, 3, 5, 2, 9]\n",
        "c = set(a)- set(b)#print(a.intersection(b))\n",
        "print(c)"
      ],
      "metadata": {
        "colab": {
          "base_uri": "https://localhost:8080/"
        },
        "id": "M6az1lwvVxYy",
        "outputId": "d7b878ba-d30a-493f-972b-526fbeb6733e"
      },
      "execution_count": null,
      "outputs": [
        {
          "output_type": "stream",
          "name": "stdout",
          "text": [
            "{8, 1, 7}\n"
          ]
        }
      ]
    },
    {
      "cell_type": "code",
      "source": [
        "#19. code to find union of two lists without duplicates\n",
        "a = [1, 5, 8, 7, 8]\n",
        "b = [3, 3, 5, 2, 9]\n",
        "union_set = set(set(a) | set(b))\n",
        "print(union_set)"
      ],
      "metadata": {
        "colab": {
          "base_uri": "https://localhost:8080/"
        },
        "id": "9aDzQLWyWQN3",
        "outputId": "5dc310ec-e480-4b4a-f622-331fb7c32cb2"
      },
      "execution_count": null,
      "outputs": [
        {
          "output_type": "stream",
          "name": "stdout",
          "text": [
            "{1, 2, 3, 5, 7, 8, 9}\n"
          ]
        }
      ]
    },
    {
      "cell_type": "code",
      "source": [
        "#20. code to shuffle the given list randomly without using built-in function\n",
        "import random\n",
        "my_list = [1, 2, 3, 4, 5]\n",
        "length = len(my_list)\n",
        "for i in range(length - 1, 0, -1):\n",
        "    j = random.randint(0, i)\n",
        "    my_list[i], my_list[j] = my_list[j], my_list[i]\n",
        "\n",
        "print(f\"Shuffled list: {my_list}\")\n"
      ],
      "metadata": {
        "colab": {
          "base_uri": "https://localhost:8080/"
        },
        "id": "flFE4T24YMeL",
        "outputId": "135050ec-45a4-4a81-b749-bf69066be31f"
      },
      "execution_count": null,
      "outputs": [
        {
          "output_type": "stream",
          "name": "stdout",
          "text": [
            "Shuffled list: [1, 3, 2, 4, 5]\n"
          ]
        }
      ]
    },
    {
      "cell_type": "code",
      "source": [
        "#21. write a code to take two tuples as input and return a new tuple containing elements that are common to both input tuples\n",
        "a = (1, 2, 3, 4, 5)#int(input(\"Enter the 1st tuple\"))\n",
        "b = (3, 4, 5, 6, 7)#int(input(\"Enter the 2nd tuple\"))\n",
        "c = set(a).intersection(set(b))\n",
        "print(c)"
      ],
      "metadata": {
        "colab": {
          "base_uri": "https://localhost:8080/"
        },
        "id": "mJ3X6DmLjOK5",
        "outputId": "c950e1e0-44f4-4e51-f77d-4893418818b3"
      },
      "execution_count": null,
      "outputs": [
        {
          "output_type": "stream",
          "name": "stdout",
          "text": [
            "{3, 4, 5}\n"
          ]
        }
      ]
    },
    {
      "cell_type": "code",
      "source": [
        "#22. Code that prompts the user to enter two sets of integers separated by commas. then print intersection of these two sets\n",
        "a = input(\"Enter the 1st set\")\n",
        "b = input(\"Enter the 2nd set\")\n",
        "set1 = set(map(int, a.split(\",\")))\n",
        "set2 = set(map(int, b.split(\",\")))\n",
        "intersection_of_sets = (set1).intersection(set2)\n",
        "print(intersection_of_sets)"
      ],
      "metadata": {
        "colab": {
          "base_uri": "https://localhost:8080/"
        },
        "id": "zdJwWWqj_mTJ",
        "outputId": "fcc490bc-1fd5-413a-f647-0e5ff3fa47f5"
      },
      "execution_count": null,
      "outputs": [
        {
          "output_type": "stream",
          "name": "stdout",
          "text": [
            "Enter the 1st set2, 3, 4, 5, 6\n",
            "Enter the 2nd set4, 5, 6, 7, 7\n",
            "{4, 5, 6}\n"
          ]
        }
      ]
    },
    {
      "cell_type": "code",
      "source": [
        "#23. Code to concatinate two tuples. the function should take two tuples as input and return a new tuple containing elements from input tuples\n",
        "a = input(\"Enter tuple 1\")\n",
        "b = input(\"Enter tuple 2\")\n",
        "#print(set((a)).union(set(b)))\n",
        "tup1 = tuple(map(int, a.split(\",\")))\n",
        "tup2 = tuple(map(int, b.split(\",\")))\n",
        "print(set(tup1).union(set(tup2)))"
      ],
      "metadata": {
        "colab": {
          "base_uri": "https://localhost:8080/"
        },
        "id": "Qwt-FZwpBA_1",
        "outputId": "914ab1e1-1a04-4cd1-d4cd-5139714e8777"
      },
      "execution_count": null,
      "outputs": [
        {
          "output_type": "stream",
          "name": "stdout",
          "text": [
            "Enter tuple 12, 3, 5, 6\n",
            "Enter tuple 24, 3, 5, 6\n",
            "{2, 3, 4, 5, 6}\n"
          ]
        }
      ]
    },
    {
      "cell_type": "code",
      "source": [
        "#24. code to print element in 1st set but not in 2nd set\n",
        "a = input(\"Enter no 1:\")\n",
        "b = input(\"Enter no 2:\")\n",
        "#print(set((a)).union(set(b)))\n",
        "set1 = set(map(int, a.split(\",\")))\n",
        "set2 = set(map(int, b.split(\",\")))\n",
        "print(set(set1).difference(set(set2)))"
      ],
      "metadata": {
        "colab": {
          "base_uri": "https://localhost:8080/"
        },
        "id": "YcvMyLjlJEzH",
        "outputId": "a9e140f0-08ca-49c8-d0bf-1ff970b36a6f"
      },
      "execution_count": null,
      "outputs": [
        {
          "output_type": "stream",
          "name": "stdout",
          "text": [
            "Enter no 1:2, 3, 4,5\n",
            "Enter no 2:3, 6, 7\n",
            "{2, 4, 5}\n"
          ]
        }
      ]
    },
    {
      "cell_type": "code",
      "source": [
        "#25. create a code that takes a tuple and two integers as input the function should return a new tuple containing elements from the original tuple within the specified range of indices\n",
        "\n",
        "a = input(\"enter the tuple\")\n",
        "tup = tuple(map(int, a.split(\",\")))\n",
        "start = int(input(\"enter the start\"))\n",
        "end = int(input(\"enter till the range\"))\n",
        "c = tup[start:end]\n",
        "#print(a)\n",
        "print(c)\n"
      ],
      "metadata": {
        "id": "AcgAx-FrK9rh",
        "colab": {
          "base_uri": "https://localhost:8080/"
        },
        "outputId": "d085800d-afbf-460b-c5af-ee389b645b72"
      },
      "execution_count": null,
      "outputs": [
        {
          "output_type": "stream",
          "name": "stdout",
          "text": [
            "enter the tuple1, 2, 3, 4, 5\n",
            "enter the range1\n",
            "enter till the range3\n",
            "1, 2, 3, 4, 5\n",
            "(2, 3)\n"
          ]
        }
      ]
    },
    {
      "cell_type": "code",
      "source": [
        "#26. Write a code that prompts the user to input two sets of characters. then print the union of these two sets\n",
        "first_input_set = input(\"Enter the 1st set: \")\n",
        "second_input_set= input(\"Enter the 2nd set: \")\n",
        "set1 = set(first_input_set.split(\",\"))\n",
        "set2 = set(second_input_set.split(\",\"))\n",
        "print((set1).union(set2))"
      ],
      "metadata": {
        "colab": {
          "base_uri": "https://localhost:8080/"
        },
        "id": "Zd2gRBzHNqXX",
        "outputId": "efbe1a3a-248f-45fb-ea0a-eaf7074a128a"
      },
      "execution_count": 7,
      "outputs": [
        {
          "output_type": "stream",
          "name": "stdout",
          "text": [
            "Enter the 1st set: a, s, e, f\n",
            "Enter the 2nd set: f, a, h, m\n",
            "{' e', 'f', ' s', ' m', ' a', 'a', ' f', ' h'}\n"
          ]
        }
      ]
    },
    {
      "cell_type": "code",
      "source": [
        "#27. Develop a code that takes a tuple as input. the function should return the maximum and minimum values from the tuple using unpacking\n",
        "enter_tup = input(\"Enter the tuple\")\n",
        "tup = tuple(map(int, enter_tup.split(\",\")))\n",
        "print(tup)\n",
        "max = tup[0]\n",
        "min = tup[0]\n",
        "for num in tup:\n",
        "  print(num)\n",
        "  if num >= max:\n",
        "    max = num\n",
        "  if num <= min:\n",
        "    min = num\n",
        "print(f\" maximum value is {max} | miniumim is {min}\")"
      ],
      "metadata": {
        "colab": {
          "base_uri": "https://localhost:8080/"
        },
        "id": "QCuJHKb2oswl",
        "outputId": "4645db8d-8962-44e6-fea4-69599e79deed"
      },
      "execution_count": 36,
      "outputs": [
        {
          "output_type": "stream",
          "name": "stdout",
          "text": [
            "Enter the tuple1, 2, 3, 8, 4, 9, 45\n",
            "(1, 2, 3, 8, 4, 9, 45)\n",
            "1\n",
            "2\n",
            "3\n",
            "8\n",
            "4\n",
            "9\n",
            "45\n",
            " maximum value is 45 | miniumim is 1\n"
          ]
        }
      ]
    },
    {
      "cell_type": "code",
      "source": [
        "#28. create a code to define two set of integer and print its union, intersection and difference of these two sets\n",
        "set1 = {1, 2, 3, 4, 5}\n",
        "set2 = {4, 5, 6, 7, 8}\n",
        "print(f\"union of two sets is {(set1).union(set2)}\")\n",
        "print(f\"intersection of two sets is {(set1).intersection(set2)}\")\n",
        "print(f\"difference of two sets is {(set1).difference(set2)}\")"
      ],
      "metadata": {
        "colab": {
          "base_uri": "https://localhost:8080/"
        },
        "id": "JXNoEhacroZh",
        "outputId": "7a773548-0f1a-430d-ceb9-8752ed0fad94"
      },
      "execution_count": 6,
      "outputs": [
        {
          "output_type": "stream",
          "name": "stdout",
          "text": [
            "union of two sets is {1, 2, 3, 4, 5, 6, 7, 8}\n",
            "intersection of two sets is {4, 5}\n",
            "difference of two sets is {1, 2, 3}\n"
          ]
        }
      ]
    },
    {
      "cell_type": "code",
      "source": [
        "#29. Code to take input as tuple and element and return count of occurence of the given element in the tuple\n",
        "tup = [1, 2, 1, 7, 8, 1, 34, 5]\n",
        "element = 1\n",
        "enter_tup = (tuple(tup), element)\n",
        "print(tup)\n",
        "count = 1\n",
        "for elem in tup:\n",
        "  #print(elem)\n",
        "  if elem == element:\n",
        "    count += 1\n",
        "\n",
        "print(f\"element {element} has occured {count} number of times in {tup}\")"
      ],
      "metadata": {
        "colab": {
          "base_uri": "https://localhost:8080/"
        },
        "id": "mtGOQwW1HmfJ",
        "outputId": "6b3150c9-8aae-444b-f78b-989739b252e9"
      },
      "execution_count": 10,
      "outputs": [
        {
          "output_type": "stream",
          "name": "stdout",
          "text": [
            "[1, 2, 1, 7, 8, 1, 34, 5]\n",
            "element 1 has occured 4 number of times in [1, 2, 1, 7, 8, 1, 34, 5]\n"
          ]
        }
      ]
    },
    {
      "cell_type": "code",
      "source": [
        "# 30. Code that prompts the user to input two sets of strings. then print the symmetric difference of these two sets\n",
        "set1 = set(input(\"enter 1st set \"))\n",
        "set2 = set(input(\"enter 2nd set \"))\n",
        "result = (set1).symmetric_difference(set2)\n",
        "print(f\"symmetric difference is {result}\")"
      ],
      "metadata": {
        "colab": {
          "base_uri": "https://localhost:8080/"
        },
        "id": "ZoWauSqBKR3E",
        "outputId": "a6d0a237-00af-476c-91f4-23d984a4be63"
      },
      "execution_count": 16,
      "outputs": [
        {
          "output_type": "stream",
          "name": "stdout",
          "text": [
            "enter 1st set2, 4, 5, 3, 5, 7\n",
            "enter 2nd set6, 3, 5, 8, 9, 2\n",
            "symmetric difference is {'6', '7', '8', '9', '4'}\n"
          ]
        }
      ]
    },
    {
      "cell_type": "code",
      "source": [
        "# 31. write a code that takes list of words as input snd returns a dictionary where the keys are unique words and the values are the values are the frequencies of those words in the input list\n",
        "list_items = ['apple', 'mango', 'banana', 'mango', 'apple', 'kivi', 'pineapple']\n",
        "count_elements = {}\n",
        "for elem in list_items:\n",
        "  if elem in count_elements:\n",
        "    count_elements[elem]+=1\n",
        "  else:\n",
        "    count_elements[elem] = 1\n",
        "print(\"word frequncy is \" , count_elements)"
      ],
      "metadata": {
        "colab": {
          "base_uri": "https://localhost:8080/"
        },
        "id": "-zyGLxXILHQI",
        "outputId": "99ec57fa-b035-419a-ab8b-675e2eb1312d"
      },
      "execution_count": 23,
      "outputs": [
        {
          "output_type": "stream",
          "name": "stdout",
          "text": [
            "word frequncy is  {'apple': 2, 'mango': 2, 'banana': 1, 'kivi': 1, 'pineapple': 1}\n"
          ]
        }
      ]
    },
    {
      "cell_type": "code",
      "source": [
        "#32. write a code to merge two dictionary into single, if there us common kwys then add values together\n",
        "dict1 = {'a': 5, 'b': 10, 'c': 15}\n",
        "dict2 = {'b': 5, 'c': 10, 'd': 20}\n",
        "merged_key = {}\n",
        "for key in dict1:\n",
        "  merged_key[key] = dict1[key]\n",
        "for key in dict2:\n",
        "  if key in merged_key:\n",
        "    merged_key[key] += dict2[key]\n",
        "  else:\n",
        "    merged_key[key] = dict2[key]\n",
        "\n",
        "print(merged_key)"
      ],
      "metadata": {
        "colab": {
          "base_uri": "https://localhost:8080/"
        },
        "id": "1OHD2aYFQK5b",
        "outputId": "d38d305d-3415-4574-853a-a44959ddd6fa"
      },
      "execution_count": 33,
      "outputs": [
        {
          "output_type": "stream",
          "name": "stdout",
          "text": [
            "{'a': 5, 'b': 15, 'c': 25, 'd': 20}\n"
          ]
        }
      ]
    },
    {
      "cell_type": "code",
      "source": [
        "# 33. Write a code to access a values ina nested dictionary the function should take the dictionary and a list of keys as a input and retrn the corresponding values. if any of the keys do not exist in the dictionay the function should return none\n",
        "nested_dict = {'a': {'b': {'c': 42}},'x': {'y': 100}}\n",
        "keys = ['a', 'b', 'c']\n",
        "current_key = nested_dict\n",
        "for key in nested_dict:\n",
        "  if key in current_key:\n",
        "    current_key = current_key[key]\n",
        "  else:\n",
        "    print(None)\n",
        "print(current_key)"
      ],
      "metadata": {
        "colab": {
          "base_uri": "https://localhost:8080/"
        },
        "id": "R39IuQpjWjV-",
        "outputId": "013f88fd-e66a-4d98-ef21-b9d78aa0a43a"
      },
      "execution_count": 43,
      "outputs": [
        {
          "output_type": "stream",
          "name": "stdout",
          "text": [
            "None\n",
            "{'b': {'c': 42}}\n"
          ]
        }
      ]
    },
    {
      "cell_type": "code",
      "source": [
        "# 34. write a code that takes a dictionary as input and return a sorted version of it based on the values. you can choose whether to sort in ascending or descending order\n",
        "dictionary = input(\"enter the dictionary\")\n",
        "dic = sorted(dictionary)\n",
        "print(dic)"
      ],
      "metadata": {
        "colab": {
          "base_uri": "https://localhost:8080/"
        },
        "id": "Mwx38c9bVpOj",
        "outputId": "130bc880-053f-4113-b209-b3768140c9b3"
      },
      "execution_count": 46,
      "outputs": [
        {
          "output_type": "stream",
          "name": "stdout",
          "text": [
            "enter the dictionaryinput_dict = {'apple': 10, 'banana': 2, 'orange': 15, 'grape': 5} order = \"ascending\"\n",
            "[' ', ' ', ' ', ' ', ' ', ' ', ' ', ' ', ' ', ' ', ' ', ' ', '\"', '\"', \"'\", \"'\", \"'\", \"'\", \"'\", \"'\", \"'\", \"'\", ',', ',', ',', '0', '1', '1', '2', '5', '5', ':', ':', ':', ':', '=', '=', '_', 'a', 'a', 'a', 'a', 'a', 'a', 'a', 'b', 'c', 'c', 'd', 'd', 'd', 'e', 'e', 'e', 'e', 'e', 'g', 'g', 'g', 'i', 'i', 'i', 'l', 'n', 'n', 'n', 'n', 'n', 'n', 'o', 'o', 'p', 'p', 'p', 'p', 'r', 'r', 'r', 'r', 's', 't', 't', 'u', '{', '}']\n"
          ]
        }
      ]
    },
    {
      "cell_type": "code",
      "source": [
        "input_dict = {'apple': 10, 'banana': 2, 'orange': 15, 'grape': 5}\n",
        "order = \"ascending\"\n",
        "def sort_dict(input_dict, order):\n",
        "\n",
        "  items = list(input_dict.items())\n",
        "  for i in range(len(items)):\n",
        "    for j in range(i+1, len(items)):\n",
        "      if (order == \"ascending\" and items[i][1]>items[j][1]) or (order == \"descending\" and items[i][1] < items[j][1]):\n",
        "        items[i], items[j] = items[j], items[i]\n",
        "print(items)\n"
      ],
      "metadata": {
        "colab": {
          "base_uri": "https://localhost:8080/"
        },
        "id": "GXzzMIbAl9Fu",
        "outputId": "dfe4a75b-aec6-4796-eced-b720340e389b"
      },
      "execution_count": 7,
      "outputs": [
        {
          "output_type": "stream",
          "name": "stdout",
          "text": [
            "[('banana', 2), ('grape', 5), ('apple', 10), ('orange', 15)]\n"
          ]
        }
      ]
    },
    {
      "cell_type": "code",
      "source": [
        "# 35. Code that inverts a dictionary swapping keys and values . Ensure that the inverted dictionary correctly handles cases where multiple keys have same value by sorting the keys as a list in the inverted dictionary\n",
        "input_dict = {'apple': 10, 'banana': 2, 'orange': 15, 'grape': 5, 'jack': 2}\n",
        "inverted_dict = {}\n",
        "demo = list(input_dict.items())\n",
        "# print(demo)\n",
        "for key, val in demo:\n",
        "  print(key, val)\n",
        "  if val not in inverted_dict:\n",
        "    inverted_dict[val]= [key]\n",
        "  else:\n",
        "    inverted_dict[val].append(key)\n",
        "print(inverted_dict)"
      ],
      "metadata": {
        "colab": {
          "base_uri": "https://localhost:8080/"
        },
        "id": "f5GMtCwxp3X1",
        "outputId": "b356ba76-d0b5-4bb1-f553-c6e678739778"
      },
      "execution_count": 25,
      "outputs": [
        {
          "output_type": "stream",
          "name": "stdout",
          "text": [
            "apple 10\n",
            "banana 2\n",
            "orange 15\n",
            "grape 5\n",
            "jack 2\n",
            "{10: ['apple'], 2: ['banana', 'jack'], 15: ['orange'], 5: ['grape']}\n"
          ]
        }
      ]
    },
    {
      "cell_type": "code",
      "source": [],
      "metadata": {
        "id": "h8D6eEoBgi_u"
      },
      "execution_count": null,
      "outputs": []
    }
  ]
}